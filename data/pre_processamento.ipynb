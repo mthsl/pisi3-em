{
  "nbformat": 4,
  "nbformat_minor": 0,
  "metadata": {
    "colab": {
      "provenance": []
    },
    "kernelspec": {
      "name": "python3",
      "display_name": "Python 3"
    },
    "language_info": {
      "name": "python"
    }
  },
  "cells": [
    {
      "cell_type": "markdown",
      "source": [
        "Importando os dados brutos\n"
      ],
      "metadata": {
        "id": "3l4rh4Cso0EC"
      }
    },
    {
      "cell_type": "code",
      "source": [
        "#Importar os dados brutos\n",
        "\n",
        "from google.colab import files\n",
        "import pandas as pd\n",
        "\n",
        "# Faça o upload do arquivo .csv\n",
        "uploaded = files.upload()\n",
        "\n",
        "# Carregue o arquivo .csv no pandas\n",
        "csv_file_name = list(uploaded.keys())[0]\n",
        "data = pd.read_csv(csv_file_name)\n",
        "\n",
        "# Exiba as primeiras linhas do DataFrame para verificar o carregamento\n",
        "print(\"Primeiras linhas dos dados:\")\n",
        "print(data.head())\n",
        "\n",
        "# Exiba informações gerais sobre o DataFrame para verificar tipos de dados e valores ausentes\n",
        "print(\"\\nInformações gerais dos dados:\")\n",
        "print(data.info())"
      ],
      "metadata": {
        "colab": {
          "base_uri": "https://localhost:8080/",
          "height": 1000
        },
        "id": "7wjM86myouIv",
        "outputId": "9cf9b60a-8bf3-4d01-926a-3a1e4e1ff833"
      },
      "execution_count": null,
      "outputs": [
        {
          "output_type": "display_data",
          "data": {
            "text/plain": [
              "<IPython.core.display.HTML object>"
            ],
            "text/html": [
              "\n",
              "     <input type=\"file\" id=\"files-9b938dcf-1dce-446f-98c2-39ef9a2484a9\" name=\"files[]\" multiple disabled\n",
              "        style=\"border:none\" />\n",
              "     <output id=\"result-9b938dcf-1dce-446f-98c2-39ef9a2484a9\">\n",
              "      Upload widget is only available when the cell has been executed in the\n",
              "      current browser session. Please rerun this cell to enable.\n",
              "      </output>\n",
              "      <script>// Copyright 2017 Google LLC\n",
              "//\n",
              "// Licensed under the Apache License, Version 2.0 (the \"License\");\n",
              "// you may not use this file except in compliance with the License.\n",
              "// You may obtain a copy of the License at\n",
              "//\n",
              "//      http://www.apache.org/licenses/LICENSE-2.0\n",
              "//\n",
              "// Unless required by applicable law or agreed to in writing, software\n",
              "// distributed under the License is distributed on an \"AS IS\" BASIS,\n",
              "// WITHOUT WARRANTIES OR CONDITIONS OF ANY KIND, either express or implied.\n",
              "// See the License for the specific language governing permissions and\n",
              "// limitations under the License.\n",
              "\n",
              "/**\n",
              " * @fileoverview Helpers for google.colab Python module.\n",
              " */\n",
              "(function(scope) {\n",
              "function span(text, styleAttributes = {}) {\n",
              "  const element = document.createElement('span');\n",
              "  element.textContent = text;\n",
              "  for (const key of Object.keys(styleAttributes)) {\n",
              "    element.style[key] = styleAttributes[key];\n",
              "  }\n",
              "  return element;\n",
              "}\n",
              "\n",
              "// Max number of bytes which will be uploaded at a time.\n",
              "const MAX_PAYLOAD_SIZE = 100 * 1024;\n",
              "\n",
              "function _uploadFiles(inputId, outputId) {\n",
              "  const steps = uploadFilesStep(inputId, outputId);\n",
              "  const outputElement = document.getElementById(outputId);\n",
              "  // Cache steps on the outputElement to make it available for the next call\n",
              "  // to uploadFilesContinue from Python.\n",
              "  outputElement.steps = steps;\n",
              "\n",
              "  return _uploadFilesContinue(outputId);\n",
              "}\n",
              "\n",
              "// This is roughly an async generator (not supported in the browser yet),\n",
              "// where there are multiple asynchronous steps and the Python side is going\n",
              "// to poll for completion of each step.\n",
              "// This uses a Promise to block the python side on completion of each step,\n",
              "// then passes the result of the previous step as the input to the next step.\n",
              "function _uploadFilesContinue(outputId) {\n",
              "  const outputElement = document.getElementById(outputId);\n",
              "  const steps = outputElement.steps;\n",
              "\n",
              "  const next = steps.next(outputElement.lastPromiseValue);\n",
              "  return Promise.resolve(next.value.promise).then((value) => {\n",
              "    // Cache the last promise value to make it available to the next\n",
              "    // step of the generator.\n",
              "    outputElement.lastPromiseValue = value;\n",
              "    return next.value.response;\n",
              "  });\n",
              "}\n",
              "\n",
              "/**\n",
              " * Generator function which is called between each async step of the upload\n",
              " * process.\n",
              " * @param {string} inputId Element ID of the input file picker element.\n",
              " * @param {string} outputId Element ID of the output display.\n",
              " * @return {!Iterable<!Object>} Iterable of next steps.\n",
              " */\n",
              "function* uploadFilesStep(inputId, outputId) {\n",
              "  const inputElement = document.getElementById(inputId);\n",
              "  inputElement.disabled = false;\n",
              "\n",
              "  const outputElement = document.getElementById(outputId);\n",
              "  outputElement.innerHTML = '';\n",
              "\n",
              "  const pickedPromise = new Promise((resolve) => {\n",
              "    inputElement.addEventListener('change', (e) => {\n",
              "      resolve(e.target.files);\n",
              "    });\n",
              "  });\n",
              "\n",
              "  const cancel = document.createElement('button');\n",
              "  inputElement.parentElement.appendChild(cancel);\n",
              "  cancel.textContent = 'Cancel upload';\n",
              "  const cancelPromise = new Promise((resolve) => {\n",
              "    cancel.onclick = () => {\n",
              "      resolve(null);\n",
              "    };\n",
              "  });\n",
              "\n",
              "  // Wait for the user to pick the files.\n",
              "  const files = yield {\n",
              "    promise: Promise.race([pickedPromise, cancelPromise]),\n",
              "    response: {\n",
              "      action: 'starting',\n",
              "    }\n",
              "  };\n",
              "\n",
              "  cancel.remove();\n",
              "\n",
              "  // Disable the input element since further picks are not allowed.\n",
              "  inputElement.disabled = true;\n",
              "\n",
              "  if (!files) {\n",
              "    return {\n",
              "      response: {\n",
              "        action: 'complete',\n",
              "      }\n",
              "    };\n",
              "  }\n",
              "\n",
              "  for (const file of files) {\n",
              "    const li = document.createElement('li');\n",
              "    li.append(span(file.name, {fontWeight: 'bold'}));\n",
              "    li.append(span(\n",
              "        `(${file.type || 'n/a'}) - ${file.size} bytes, ` +\n",
              "        `last modified: ${\n",
              "            file.lastModifiedDate ? file.lastModifiedDate.toLocaleDateString() :\n",
              "                                    'n/a'} - `));\n",
              "    const percent = span('0% done');\n",
              "    li.appendChild(percent);\n",
              "\n",
              "    outputElement.appendChild(li);\n",
              "\n",
              "    const fileDataPromise = new Promise((resolve) => {\n",
              "      const reader = new FileReader();\n",
              "      reader.onload = (e) => {\n",
              "        resolve(e.target.result);\n",
              "      };\n",
              "      reader.readAsArrayBuffer(file);\n",
              "    });\n",
              "    // Wait for the data to be ready.\n",
              "    let fileData = yield {\n",
              "      promise: fileDataPromise,\n",
              "      response: {\n",
              "        action: 'continue',\n",
              "      }\n",
              "    };\n",
              "\n",
              "    // Use a chunked sending to avoid message size limits. See b/62115660.\n",
              "    let position = 0;\n",
              "    do {\n",
              "      const length = Math.min(fileData.byteLength - position, MAX_PAYLOAD_SIZE);\n",
              "      const chunk = new Uint8Array(fileData, position, length);\n",
              "      position += length;\n",
              "\n",
              "      const base64 = btoa(String.fromCharCode.apply(null, chunk));\n",
              "      yield {\n",
              "        response: {\n",
              "          action: 'append',\n",
              "          file: file.name,\n",
              "          data: base64,\n",
              "        },\n",
              "      };\n",
              "\n",
              "      let percentDone = fileData.byteLength === 0 ?\n",
              "          100 :\n",
              "          Math.round((position / fileData.byteLength) * 100);\n",
              "      percent.textContent = `${percentDone}% done`;\n",
              "\n",
              "    } while (position < fileData.byteLength);\n",
              "  }\n",
              "\n",
              "  // All done.\n",
              "  yield {\n",
              "    response: {\n",
              "      action: 'complete',\n",
              "    }\n",
              "  };\n",
              "}\n",
              "\n",
              "scope.google = scope.google || {};\n",
              "scope.google.colab = scope.google.colab || {};\n",
              "scope.google.colab._files = {\n",
              "  _uploadFiles,\n",
              "  _uploadFilesContinue,\n",
              "};\n",
              "})(self);\n",
              "</script> "
            ]
          },
          "metadata": {}
        },
        {
          "output_type": "stream",
          "name": "stdout",
          "text": [
            "Saving aac_intakes_outcomes.csv to aac_intakes_outcomes.csv\n",
            "Primeiras linhas dos dados:\n",
            "  age_upon_outcome animal_id_outcome        date_of_birth outcome_subtype  \\\n",
            "0         10 years           A006100  2007-07-09 00:00:00             NaN   \n",
            "1          7 years           A006100  2007-07-09 00:00:00             NaN   \n",
            "2          6 years           A006100  2007-07-09 00:00:00             NaN   \n",
            "3         10 years           A047759  2004-04-02 00:00:00         Partner   \n",
            "4         16 years           A134067  1997-10-16 00:00:00             NaN   \n",
            "\n",
            "      outcome_type sex_upon_outcome  age_upon_outcome_(days)  \\\n",
            "0  Return to Owner    Neutered Male                     3650   \n",
            "1  Return to Owner    Neutered Male                     2555   \n",
            "2  Return to Owner    Neutered Male                     2190   \n",
            "3         Transfer    Neutered Male                     3650   \n",
            "4  Return to Owner    Neutered Male                     5840   \n",
            "\n",
            "   age_upon_outcome_(years) age_upon_outcome_age_group     outcome_datetime  \\\n",
            "0                      10.0                (7.5, 10.0]  2017-12-07 14:07:00   \n",
            "1                       7.0                 (5.0, 7.5]  2014-12-20 16:35:00   \n",
            "2                       6.0                 (5.0, 7.5]  2014-03-08 17:10:00   \n",
            "3                      10.0                (7.5, 10.0]  2014-04-07 15:12:00   \n",
            "4                      16.0               (15.0, 17.5]  2013-11-16 11:54:00   \n",
            "\n",
            "   ...  age_upon_intake_age_group      intake_datetime intake_month  \\\n",
            "0  ...                (7.5, 10.0]  2017-12-07 00:00:00           12   \n",
            "1  ...                 (5.0, 7.5]  2014-12-19 10:21:00           12   \n",
            "2  ...                 (5.0, 7.5]  2014-03-07 14:26:00            3   \n",
            "3  ...                (7.5, 10.0]  2014-04-02 15:55:00            4   \n",
            "4  ...               (15.0, 17.5]  2013-11-16 09:02:00           11   \n",
            "\n",
            "  intake_year  intake_monthyear  intake_weekday  intake_hour  intake_number  \\\n",
            "0        2017           2017-12        Thursday           14            1.0   \n",
            "1        2014           2014-12          Friday           10            2.0   \n",
            "2        2014           2014-03          Friday           14            3.0   \n",
            "3        2014           2014-04       Wednesday           15            1.0   \n",
            "4        2013           2013-11        Saturday            9            1.0   \n",
            "\n",
            "             time_in_shelter time_in_shelter_days  \n",
            "0  0 days 14:07:00.000000000             0.588194  \n",
            "1  1 days 06:14:00.000000000             1.259722  \n",
            "2  1 days 02:44:00.000000000             1.113889  \n",
            "3  4 days 23:17:00.000000000             4.970139  \n",
            "4  0 days 02:52:00.000000000             0.119444  \n",
            "\n",
            "[5 rows x 41 columns]\n",
            "\n",
            "Informações gerais dos dados:\n",
            "<class 'pandas.core.frame.DataFrame'>\n",
            "RangeIndex: 79672 entries, 0 to 79671\n",
            "Data columns (total 41 columns):\n",
            " #   Column                      Non-Null Count  Dtype  \n",
            "---  ------                      --------------  -----  \n",
            " 0   age_upon_outcome            79672 non-null  object \n",
            " 1   animal_id_outcome           79672 non-null  object \n",
            " 2   date_of_birth               79672 non-null  object \n",
            " 3   outcome_subtype             36348 non-null  object \n",
            " 4   outcome_type                79662 non-null  object \n",
            " 5   sex_upon_outcome            79671 non-null  object \n",
            " 6   age_upon_outcome_(days)     79672 non-null  int64  \n",
            " 7   age_upon_outcome_(years)    79672 non-null  float64\n",
            " 8   age_upon_outcome_age_group  79672 non-null  object \n",
            " 9   outcome_datetime            79672 non-null  object \n",
            " 10  outcome_month               79672 non-null  int64  \n",
            " 11  outcome_year                79672 non-null  int64  \n",
            " 12  outcome_monthyear           79672 non-null  object \n",
            " 13  outcome_weekday             79672 non-null  object \n",
            " 14  outcome_hour                79672 non-null  int64  \n",
            " 15  outcome_number              79672 non-null  float64\n",
            " 16  dob_year                    79672 non-null  int64  \n",
            " 17  dob_month                   79672 non-null  int64  \n",
            " 18  dob_monthyear               79672 non-null  object \n",
            " 19  age_upon_intake             79672 non-null  object \n",
            " 20  animal_id_intake            79672 non-null  object \n",
            " 21  animal_type                 79672 non-null  object \n",
            " 22  breed                       79672 non-null  object \n",
            " 23  color                       79672 non-null  object \n",
            " 24  found_location              79672 non-null  object \n",
            " 25  intake_condition            79672 non-null  object \n",
            " 26  intake_type                 79672 non-null  object \n",
            " 27  sex_upon_intake             79671 non-null  object \n",
            " 28  count                       79672 non-null  int64  \n",
            " 29  age_upon_intake_(days)      79672 non-null  int64  \n",
            " 30  age_upon_intake_(years)     79672 non-null  float64\n",
            " 31  age_upon_intake_age_group   79672 non-null  object \n",
            " 32  intake_datetime             79672 non-null  object \n",
            " 33  intake_month                79672 non-null  int64  \n",
            " 34  intake_year                 79672 non-null  int64  \n",
            " 35  intake_monthyear            79672 non-null  object \n",
            " 36  intake_weekday              79672 non-null  object \n",
            " 37  intake_hour                 79672 non-null  int64  \n",
            " 38  intake_number               79672 non-null  float64\n",
            " 39  time_in_shelter             79672 non-null  object \n",
            " 40  time_in_shelter_days        79672 non-null  float64\n",
            "dtypes: float64(5), int64(11), object(25)\n",
            "memory usage: 24.9+ MB\n",
            "None\n"
          ]
        }
      ]
    },
    {
      "cell_type": "markdown",
      "source": [
        "Transformando .csv em .parquet"
      ],
      "metadata": {
        "id": "DCx0Ahiao7dz"
      }
    },
    {
      "cell_type": "code",
      "source": [
        "import pandas as pd\n",
        "\n",
        "# Supondo que o DataFrame 'data' já está carregado do CSV\n",
        "# Se você seguiu o código anterior, 'data' já está definido\n",
        "\n",
        "# Defina o nome do arquivo Parquet\n",
        "parquet_file_name = csv_file_name.replace('.csv', '.parquet')\n",
        "\n",
        "# Salve o DataFrame como um arquivo Parquet\n",
        "data.to_parquet(parquet_file_name, index=False)\n",
        "\n",
        "print(f\"Arquivo CSV foi convertido e salvo como {parquet_file_name}\")"
      ],
      "metadata": {
        "colab": {
          "base_uri": "https://localhost:8080/"
        },
        "id": "pROA6U06oeZy",
        "outputId": "d043e84a-5a6c-46b6-d995-5d9c62df80be"
      },
      "execution_count": null,
      "outputs": [
        {
          "output_type": "stream",
          "name": "stdout",
          "text": [
            "Arquivo CSV foi convertido e salvo como aac_intakes_outcomes.parquet\n"
          ]
        }
      ]
    },
    {
      "cell_type": "markdown",
      "source": [
        "Iniciando a limpeza dos dados\n"
      ],
      "metadata": {
        "id": "lJDbJPadrl_F"
      }
    },
    {
      "cell_type": "code",
      "source": [
        "# Criação de uma cópia do DataFrame original para preservação dos dados brutos\n",
        "data_cleaned = data.copy()\n",
        "\n",
        "# Conversão de colunas com datas e horas para o tipo datetime, tratando erros e utilizando coerção\n",
        "datetime_columns = ['date_of_birth', 'outcome_datetime', 'intake_datetime']\n",
        "\n",
        "for col in datetime_columns:\n",
        "    data_cleaned[col] = pd.to_datetime(data_cleaned[col], format='%d/%m/%Y %H:%M', errors='coerce')\n",
        "\n",
        "# Reformatação de colunas que armazenam mês e ano, convertendo para o formato 'mm/yyyy'\n",
        "monthyear_fields = ['dob_monthyear', 'outcome_monthyear', 'intake_monthyear']\n",
        "for field in monthyear_fields:\n",
        "    data_cleaned[field] = pd.to_datetime(data_cleaned[field], format='%Y-%m', errors='coerce').dt.strftime('%m/%Y')\n",
        "\n",
        "# Transformação de colunas de mês em valores numéricos\n",
        "month_fields = ['outcome_month', 'dob_month', 'intake_month']\n",
        "for field in month_fields:\n",
        "    data_cleaned[field] = pd.to_numeric(data_cleaned[field], errors='coerce')\n",
        "\n",
        "# Conversão de colunas numéricas para garantir o tipo correto e tratamento de possíveis erros\n",
        "numeric_fields = [\n",
        "    'age_upon_outcome_(days)', 'age_upon_outcome_(years)', 'outcome_year', 'outcome_hour',\n",
        "    'outcome_number', 'dob_year', 'age_upon_intake_(days)', 'age_upon_intake_(years)',\n",
        "    'intake_year', 'intake_hour', 'intake_number', 'time_in_shelter_days'\n",
        "]\n",
        "for field in numeric_fields:\n",
        "    data_cleaned[field] = pd.to_numeric(data_cleaned[field], errors='coerce')\n",
        "\n",
        "# Exibição das informações gerais do DataFrame após a limpeza e conversão dos dados\n",
        "data_cleaned.info()"
      ],
      "metadata": {
        "colab": {
          "base_uri": "https://localhost:8080/"
        },
        "id": "jQrNhgWsrk8a",
        "outputId": "99f89c3f-a16c-433e-e16b-fadd23dff063"
      },
      "execution_count": null,
      "outputs": [
        {
          "output_type": "stream",
          "name": "stdout",
          "text": [
            "<class 'pandas.core.frame.DataFrame'>\n",
            "RangeIndex: 79672 entries, 0 to 79671\n",
            "Data columns (total 41 columns):\n",
            " #   Column                      Non-Null Count  Dtype         \n",
            "---  ------                      --------------  -----         \n",
            " 0   age_upon_outcome            79672 non-null  object        \n",
            " 1   animal_id_outcome           79672 non-null  object        \n",
            " 2   date_of_birth               0 non-null      datetime64[ns]\n",
            " 3   outcome_subtype             36348 non-null  object        \n",
            " 4   outcome_type                79662 non-null  object        \n",
            " 5   sex_upon_outcome            79671 non-null  object        \n",
            " 6   age_upon_outcome_(days)     79672 non-null  int64         \n",
            " 7   age_upon_outcome_(years)    79672 non-null  float64       \n",
            " 8   age_upon_outcome_age_group  79672 non-null  object        \n",
            " 9   outcome_datetime            0 non-null      datetime64[ns]\n",
            " 10  outcome_month               79672 non-null  int64         \n",
            " 11  outcome_year                79672 non-null  int64         \n",
            " 12  outcome_monthyear           79672 non-null  object        \n",
            " 13  outcome_weekday             79672 non-null  object        \n",
            " 14  outcome_hour                79672 non-null  int64         \n",
            " 15  outcome_number              79672 non-null  float64       \n",
            " 16  dob_year                    79672 non-null  int64         \n",
            " 17  dob_month                   79672 non-null  int64         \n",
            " 18  dob_monthyear               79672 non-null  object        \n",
            " 19  age_upon_intake             79672 non-null  object        \n",
            " 20  animal_id_intake            79672 non-null  object        \n",
            " 21  animal_type                 79672 non-null  object        \n",
            " 22  breed                       79672 non-null  object        \n",
            " 23  color                       79672 non-null  object        \n",
            " 24  found_location              79672 non-null  object        \n",
            " 25  intake_condition            79672 non-null  object        \n",
            " 26  intake_type                 79672 non-null  object        \n",
            " 27  sex_upon_intake             79671 non-null  object        \n",
            " 28  count                       79672 non-null  int64         \n",
            " 29  age_upon_intake_(days)      79672 non-null  int64         \n",
            " 30  age_upon_intake_(years)     79672 non-null  float64       \n",
            " 31  age_upon_intake_age_group   79672 non-null  object        \n",
            " 32  intake_datetime             0 non-null      datetime64[ns]\n",
            " 33  intake_month                79672 non-null  int64         \n",
            " 34  intake_year                 79672 non-null  int64         \n",
            " 35  intake_monthyear            79672 non-null  object        \n",
            " 36  intake_weekday              79672 non-null  object        \n",
            " 37  intake_hour                 79672 non-null  int64         \n",
            " 38  intake_number               79672 non-null  float64       \n",
            " 39  time_in_shelter             79672 non-null  object        \n",
            " 40  time_in_shelter_days        79672 non-null  float64       \n",
            "dtypes: datetime64[ns](3), float64(5), int64(11), object(22)\n",
            "memory usage: 24.9+ MB\n"
          ]
        }
      ]
    },
    {
      "cell_type": "code",
      "source": [
        "# Verificar valores ausentes\n",
        "missing_values = data_cleaned.isnull().sum()\n",
        "\n",
        "print(\"Valores ausentes por coluna:\")\n",
        "print(missing_values[missing_values > 0])\n",
        "\n",
        "# Verificar duplicatas\n",
        "duplicate_rows = data_cleaned.duplicated().sum()\n",
        "\n",
        "print(f\"\\nNúmero de linhas duplicadas: {duplicate_rows}\")\n",
        "\n",
        "# Remover duplicatas\n",
        "data_cleaned = data_cleaned.drop_duplicates()\n",
        "\n",
        "print(\"\\nDuplicatas removidas.\")"
      ],
      "metadata": {
        "colab": {
          "base_uri": "https://localhost:8080/"
        },
        "id": "sPfHvoHUthtF",
        "outputId": "a0758609-3893-46d9-87ba-d699995c2c2f"
      },
      "execution_count": null,
      "outputs": [
        {
          "output_type": "stream",
          "name": "stdout",
          "text": [
            "Valores ausentes por coluna:\n",
            "date_of_birth       79672\n",
            "outcome_subtype     43324\n",
            "outcome_type           10\n",
            "sex_upon_outcome        1\n",
            "outcome_datetime    79672\n",
            "sex_upon_intake         1\n",
            "intake_datetime     79672\n",
            "dtype: int64\n",
            "\n",
            "Número de linhas duplicadas: 35\n",
            "\n",
            "Duplicatas removidas.\n"
          ]
        }
      ]
    },
    {
      "cell_type": "code",
      "source": [
        "# Função para detectar outliers\n",
        "def detect_outliers(df):\n",
        "    # Selecionar colunas numéricas\n",
        "    num_cols = df.select_dtypes(include=['float64', 'int64']).columns\n",
        "    columns_with_outliers = []\n",
        "\n",
        "    for col in num_cols:\n",
        "        # Calcular o primeiro e terceiro quartis\n",
        "        quartile1 = df[col].quantile(0.25)\n",
        "        quartile3 = df[col].quantile(0.75)\n",
        "        # Calcular a faixa interquartil (IQR)\n",
        "        iqr = quartile3 - quartile1\n",
        "        # Definir os limites para identificar outliers\n",
        "        lower_bound = quartile1 - 1.5 * iqr\n",
        "        upper_bound = quartile3 + 1.5 * iqr\n",
        "        # Verificar se há outliers na coluna\n",
        "        outliers = df[(df[col] < lower_bound) | (df[col] > upper_bound)]\n",
        "        if not outliers.empty:\n",
        "            columns_with_outliers.append(col)\n",
        "\n",
        "    return columns_with_outliers\n",
        "\n",
        "# Detectar colunas que contêm outliers\n",
        "columns_with_outliers = detect_outliers(data_cleaned)\n",
        "\n",
        "# Mostrar as colunas que têm outliers\n",
        "if columns_with_outliers:\n",
        "    print(f\"As seguintes colunas contêm outliers: {', '.join(columns_with_outliers)}\")\n",
        "else:\n",
        "    print(\"Nenhum outlier foi detectado nas colunas numéricas.\")"
      ],
      "metadata": {
        "colab": {
          "base_uri": "https://localhost:8080/"
        },
        "id": "JzUXbsu9t5b8",
        "outputId": "b530f975-ef35-483f-c0f0-830e65bf37e8"
      },
      "execution_count": null,
      "outputs": [
        {
          "output_type": "stream",
          "name": "stdout",
          "text": [
            "As seguintes colunas contêm outliers: age_upon_outcome_(days), age_upon_outcome_(years), outcome_hour, outcome_number, dob_year, age_upon_intake_(days), age_upon_intake_(years), intake_hour, intake_number, time_in_shelter_days\n"
          ]
        }
      ]
    },
    {
      "cell_type": "code",
      "source": [
        "# Função para eliminar outliers em colunas específicas\n",
        "def eliminate_outliers(df, target_columns):\n",
        "    for column in target_columns:\n",
        "        # Calcular o primeiro e terceiro quartis\n",
        "        quartile_1 = df[column].quantile(0.25)\n",
        "        quartile_3 = df[column].quantile(0.75)\n",
        "        # Calcular o IQR (Intervalo Interquartil)\n",
        "        interquartile_range = quartile_3 - quartile_1\n",
        "        # Determinar os limites para identificar outliers\n",
        "        lower_limit = quartile_1 - 1.5 * interquartile_range\n",
        "        upper_limit = quartile_3 + 1.5 * interquartile_range\n",
        "        # Remover registros que contenham outliers\n",
        "        df = df[~((df[column] < lower_limit) | (df[column] > upper_limit))]\n",
        "    return df\n",
        "\n",
        "# Definir as colunas nas quais removeremos os outliers\n",
        "target_columns_for_outliers = ['outcome_hour', 'intake_hour']\n",
        "\n",
        "# Aplicar a remoção de outliers\n",
        "data_cleaned = eliminate_outliers(data_cleaned, target_columns_for_outliers)\n",
        "\n",
        "# Exibir a contagem de registros após a remoção dos outliers\n",
        "print(f\"Número de registros restantes após a eliminação de outliers: {len(data_cleaned)}\")"
      ],
      "metadata": {
        "colab": {
          "base_uri": "https://localhost:8080/"
        },
        "id": "_0-hX4MLuL9W",
        "outputId": "49c56595-e840-4949-8b55-17a9e311d3e6"
      },
      "execution_count": null,
      "outputs": [
        {
          "output_type": "stream",
          "name": "stdout",
          "text": [
            "Número de registros restantes após a eliminação de outliers: 76993\n"
          ]
        }
      ]
    },
    {
      "cell_type": "markdown",
      "source": [
        "Salvando os dados limpos"
      ],
      "metadata": {
        "id": "jG5jlr8eubL7"
      }
    },
    {
      "cell_type": "code",
      "source": [
        "from google.colab import files\n",
        "\n",
        "# Defina o nome do arquivo Parquet\n",
        "parquet_file_name = \"data_cleaned.parquet\"\n",
        "\n",
        "# Salve o DataFrame como um arquivo Parquet\n",
        "data_cleaned.to_parquet(parquet_file_name, index=False)\n",
        "\n",
        "# Baixe o arquivo Parquet para sua máquina\n",
        "# files.download(parquet_file_name)"
      ],
      "metadata": {
        "id": "TjeyhbzeuXi9",
        "colab": {
          "base_uri": "https://localhost:8080/",
          "height": 17
        },
        "outputId": "ff4cde7d-38b0-4972-f879-7a29c40ec06c"
      },
      "execution_count": null,
      "outputs": [
        {
          "output_type": "display_data",
          "data": {
            "text/plain": [
              "<IPython.core.display.Javascript object>"
            ],
            "application/javascript": [
              "\n",
              "    async function download(id, filename, size) {\n",
              "      if (!google.colab.kernel.accessAllowed) {\n",
              "        return;\n",
              "      }\n",
              "      const div = document.createElement('div');\n",
              "      const label = document.createElement('label');\n",
              "      label.textContent = `Downloading \"${filename}\": `;\n",
              "      div.appendChild(label);\n",
              "      const progress = document.createElement('progress');\n",
              "      progress.max = size;\n",
              "      div.appendChild(progress);\n",
              "      document.body.appendChild(div);\n",
              "\n",
              "      const buffers = [];\n",
              "      let downloaded = 0;\n",
              "\n",
              "      const channel = await google.colab.kernel.comms.open(id);\n",
              "      // Send a message to notify the kernel that we're ready.\n",
              "      channel.send({})\n",
              "\n",
              "      for await (const message of channel.messages) {\n",
              "        // Send a message to notify the kernel that we're ready.\n",
              "        channel.send({})\n",
              "        if (message.buffers) {\n",
              "          for (const buffer of message.buffers) {\n",
              "            buffers.push(buffer);\n",
              "            downloaded += buffer.byteLength;\n",
              "            progress.value = downloaded;\n",
              "          }\n",
              "        }\n",
              "      }\n",
              "      const blob = new Blob(buffers, {type: 'application/binary'});\n",
              "      const a = document.createElement('a');\n",
              "      a.href = window.URL.createObjectURL(blob);\n",
              "      a.download = filename;\n",
              "      div.appendChild(a);\n",
              "      a.click();\n",
              "      div.remove();\n",
              "    }\n",
              "  "
            ]
          },
          "metadata": {}
        },
        {
          "output_type": "display_data",
          "data": {
            "text/plain": [
              "<IPython.core.display.Javascript object>"
            ],
            "application/javascript": [
              "download(\"download_071b78e4-adf0-4029-baa6-a17a1afd2fbc\", \"data_cleaned.parquet\", 3667631)"
            ]
          },
          "metadata": {}
        }
      ]
    },
    {
      "cell_type": "markdown",
      "source": [
        "Iniciando padronização dos dados"
      ],
      "metadata": {
        "id": "P4prORYVIMGZ"
      }
    },
    {
      "cell_type": "code",
      "source": [
        "import pandas as pd\n",
        "from sklearn.preprocessing import StandardScaler\n",
        "\n",
        "# Carregar o arquivo Parquet no DataFrame\n",
        "data_cleaned = pd.read_parquet('data_cleaned.parquet')\n",
        "\n",
        "# Especificar as colunas que precisam ser padronizadas\n",
        "scale_columns = [\n",
        "    'dob_year',\n",
        "    'age_upon_intake_(days)',\n",
        "    'age_upon_intake_(years)',\n",
        "    'intake_month',\n",
        "    'intake_year',\n",
        "    'intake_number',\n",
        "    'age_upon_outcome_(days)',\n",
        "    'age_upon_outcome_(years)',\n",
        "    'outcome_month',\n",
        "    'outcome_year',\n",
        "    'outcome_number',\n",
        "    'time_in_shelter_days',\n",
        "]\n",
        "\n",
        "# Instanciar o StandardScaler\n",
        "standard_scaler = StandardScaler()\n",
        "\n",
        "# Criar uma cópia do DataFrame para adicionar as colunas padronizadas\n",
        "data_standardized = data_cleaned.copy()\n",
        "\n",
        "# Aplicar a padronização e adicionar as colunas padronizadas ao DataFrame\n",
        "for column in scale_columns:\n",
        "    data_standardized[f'{column}_standard'] = standard_scaler.fit_transform(data_cleaned[[column]])\n",
        "\n",
        "# Exibir as primeiras linhas do DataFrame padronizado para verificação\n",
        "print(\"Primeiras linhas dos dados padronizados:\")\n",
        "print(data_standardized.head())"
      ],
      "metadata": {
        "colab": {
          "base_uri": "https://localhost:8080/"
        },
        "id": "0pE4M_7BIJL8",
        "outputId": "0574aae4-eefd-4650-9394-92b4ae751961"
      },
      "execution_count": null,
      "outputs": [
        {
          "output_type": "stream",
          "name": "stdout",
          "text": [
            "Primeiras linhas dos dados padronizados:\n",
            "  age_upon_outcome animal_id_outcome date_of_birth outcome_subtype  \\\n",
            "0          7 years           A006100           NaT            None   \n",
            "1          6 years           A006100           NaT            None   \n",
            "2         10 years           A047759           NaT         Partner   \n",
            "3         16 years           A134067           NaT            None   \n",
            "4         15 years           A141142           NaT            None   \n",
            "\n",
            "      outcome_type sex_upon_outcome  age_upon_outcome_(days)  \\\n",
            "0  Return to Owner    Neutered Male                     2555   \n",
            "1  Return to Owner    Neutered Male                     2190   \n",
            "2         Transfer    Neutered Male                     3650   \n",
            "3  Return to Owner    Neutered Male                     5840   \n",
            "4  Return to Owner    Spayed Female                     5475   \n",
            "\n",
            "   age_upon_outcome_(years) age_upon_outcome_age_group outcome_datetime  ...  \\\n",
            "0                       7.0                 (5.0, 7.5]              NaT  ...   \n",
            "1                       6.0                 (5.0, 7.5]              NaT  ...   \n",
            "2                      10.0                (7.5, 10.0]              NaT  ...   \n",
            "3                      16.0               (15.0, 17.5]              NaT  ...   \n",
            "4                      15.0               (12.5, 15.0]              NaT  ...   \n",
            "\n",
            "   age_upon_intake_(years)_standard  intake_month_standard  \\\n",
            "0                          1.685493               1.605112   \n",
            "1                          1.340673              -1.064048   \n",
            "2                          2.719954              -0.767474   \n",
            "3                          4.788874               1.308539   \n",
            "4                          4.444054               1.308539   \n",
            "\n",
            "  intake_year_standard intake_number_standard  \\\n",
            "0            -1.084954               1.900088   \n",
            "1            -1.084954               4.079832   \n",
            "2            -1.084954              -0.279655   \n",
            "3            -1.849405              -0.279655   \n",
            "4            -1.849405              -0.279655   \n",
            "\n",
            "   age_upon_outcome_(days)_standard  age_upon_outcome_(years)_standard  \\\n",
            "0                          1.669596                           1.669596   \n",
            "1                          1.325571                           1.325571   \n",
            "2                          2.701670                           2.701670   \n",
            "3                          4.765817                           4.765817   \n",
            "4                          4.421793                           4.421793   \n",
            "\n",
            "   outcome_month_standard  outcome_year_standard outcome_number_standard  \\\n",
            "0                1.561662              -1.110421                1.900088   \n",
            "1               -1.070280              -1.110421                4.079832   \n",
            "2               -0.777842              -1.110421               -0.279655   \n",
            "3                1.269224              -1.873270               -0.279655   \n",
            "4                1.269224              -1.873270               -0.279655   \n",
            "\n",
            "  time_in_shelter_days_standard  \n",
            "0                     -0.372234  \n",
            "1                     -0.375736  \n",
            "2                     -0.283155  \n",
            "3                     -0.399610  \n",
            "4                     -0.381571  \n",
            "\n",
            "[5 rows x 53 columns]\n"
          ]
        }
      ]
    },
    {
      "cell_type": "markdown",
      "source": [
        "Iniciando a normalização dos dados"
      ],
      "metadata": {
        "id": "oHMdaNZhI3qB"
      }
    },
    {
      "cell_type": "code",
      "source": [
        "import pandas as pd\n",
        "from sklearn.preprocessing import MinMaxScaler\n",
        "\n",
        "# Carregar o arquivo Parquet no DataFrame\n",
        "data_cleaned = pd.read_parquet('data_cleaned.parquet')\n",
        "\n",
        "# Especificar as colunas que precisam ser normalizadas\n",
        "normalize_columns = [\n",
        "    'dob_year',\n",
        "    'age_upon_intake_(days)',\n",
        "    'age_upon_intake_(years)',\n",
        "    'intake_month',\n",
        "    'intake_year',\n",
        "    'intake_number',\n",
        "    'age_upon_outcome_(days)',\n",
        "    'age_upon_outcome_(years)',\n",
        "    'outcome_month',\n",
        "    'outcome_year',\n",
        "    'outcome_number',\n",
        "    'time_in_shelter_days',\n",
        "]\n",
        "\n",
        "# Instanciar o MinMaxScaler\n",
        "min_max_scaler = MinMaxScaler()\n",
        "\n",
        "# Criar uma cópia do DataFrame para adicionar as colunas normalizadas\n",
        "data_normalized = data_cleaned.copy()\n",
        "\n",
        "# Aplicar a normalização e adicionar as colunas normalizadas ao DataFrame\n",
        "for column in normalize_columns:\n",
        "    data_normalized[f'{column}_minmax'] = min_max_scaler.fit_transform(data_cleaned[[column]])\n",
        "\n",
        "# Exibir as primeiras linhas do DataFrame normalizado para verificação\n",
        "print(\"Primeiras linhas dos dados normalizados:\")\n",
        "print(data_normalized.head())\n",
        "\n",
        "# Salvar o DataFrame normalizado em um novo arquivo Parquet\n",
        "data_normalized.to_parquet('data_normalized.parquet', index=False)\n",
        "\n",
        "print(\"Os dados normalizados foram salvos como 'data_normalized.parquet'.\")"
      ],
      "metadata": {
        "colab": {
          "base_uri": "https://localhost:8080/"
        },
        "id": "T-Z-N_aTI7Yv",
        "outputId": "5d0d7c98-0b22-4c9a-8178-e16f97445eba"
      },
      "execution_count": null,
      "outputs": [
        {
          "output_type": "stream",
          "name": "stdout",
          "text": [
            "Primeiras linhas dos dados normalizados:\n",
            "  age_upon_outcome animal_id_outcome date_of_birth outcome_subtype  \\\n",
            "0          7 years           A006100           NaT            None   \n",
            "1          6 years           A006100           NaT            None   \n",
            "2         10 years           A047759           NaT         Partner   \n",
            "3         16 years           A134067           NaT            None   \n",
            "4         15 years           A141142           NaT            None   \n",
            "\n",
            "      outcome_type sex_upon_outcome  age_upon_outcome_(days)  \\\n",
            "0  Return to Owner    Neutered Male                     2555   \n",
            "1  Return to Owner    Neutered Male                     2190   \n",
            "2         Transfer    Neutered Male                     3650   \n",
            "3  Return to Owner    Neutered Male                     5840   \n",
            "4  Return to Owner    Spayed Female                     5475   \n",
            "\n",
            "   age_upon_outcome_(years) age_upon_outcome_age_group outcome_datetime  ...  \\\n",
            "0                       7.0                 (5.0, 7.5]              NaT  ...   \n",
            "1                       6.0                 (5.0, 7.5]              NaT  ...   \n",
            "2                      10.0                (7.5, 10.0]              NaT  ...   \n",
            "3                      16.0               (15.0, 17.5]              NaT  ...   \n",
            "4                      15.0               (12.5, 15.0]              NaT  ...   \n",
            "\n",
            "   age_upon_intake_(years)_minmax  intake_month_minmax intake_year_minmax  \\\n",
            "0                        0.318182             1.000000                0.2   \n",
            "1                        0.272727             0.181818                0.2   \n",
            "2                        0.454545             0.272727                0.2   \n",
            "3                        0.727273             0.909091                0.0   \n",
            "4                        0.681818             0.909091                0.0   \n",
            "\n",
            "  intake_number_minmax  age_upon_outcome_(days)_minmax  \\\n",
            "0             0.083333                        0.318182   \n",
            "1             0.166667                        0.272727   \n",
            "2             0.000000                        0.454545   \n",
            "3             0.000000                        0.727273   \n",
            "4             0.000000                        0.681818   \n",
            "\n",
            "   age_upon_outcome_(years)_minmax  outcome_month_minmax  outcome_year_minmax  \\\n",
            "0                         0.318182              1.000000                  0.2   \n",
            "1                         0.272727              0.181818                  0.2   \n",
            "2                         0.454545              0.272727                  0.2   \n",
            "3                         0.727273              0.909091                  0.0   \n",
            "4                         0.681818              0.909091                  0.0   \n",
            "\n",
            "  outcome_number_minmax time_in_shelter_days_minmax  \n",
            "0              0.083333                    0.000784  \n",
            "1              0.166667                    0.000693  \n",
            "2              0.000000                    0.003094  \n",
            "3              0.000000                    0.000074  \n",
            "4              0.000000                    0.000542  \n",
            "\n",
            "[5 rows x 53 columns]\n",
            "Os dados normalizados foram salvos como 'data_normalized.parquet'.\n"
          ]
        }
      ]
    },
    {
      "cell_type": "markdown",
      "source": [
        "Iniciando a codificação One-Hot e Feature Engineering"
      ],
      "metadata": {
        "id": "N85AkHx8HXf-"
      }
    },
    {
      "cell_type": "code",
      "source": [
        "# Selecionar as colunas categóricas no DataFrame limpo\n",
        "cat_columns = data_cleaned.select_dtypes(include=['object', 'category']).columns\n",
        "\n",
        "# Calcular o número de valores únicos em cada coluna categórica\n",
        "unique_counts = data_cleaned[cat_columns].nunique()\n",
        "\n",
        "# Exibir os resultados\n",
        "print(\"Número de valores únicos por coluna categórica:\")\n",
        "print(unique_counts)"
      ],
      "metadata": {
        "colab": {
          "base_uri": "https://localhost:8080/"
        },
        "id": "6_BcmiFmHcoH",
        "outputId": "9b9e8166-b4db-4fae-8edf-525d0ad8d3d7"
      },
      "execution_count": null,
      "outputs": [
        {
          "output_type": "stream",
          "name": "stdout",
          "text": [
            "Número de valores únicos por coluna categórica:\n",
            "age_upon_outcome                 45\n",
            "animal_id_outcome             69733\n",
            "outcome_subtype                  19\n",
            "outcome_type                      9\n",
            "sex_upon_outcome                  5\n",
            "age_upon_outcome_age_group        9\n",
            "outcome_monthyear                55\n",
            "outcome_weekday                   7\n",
            "dob_monthyear                    55\n",
            "age_upon_intake                  45\n",
            "animal_id_intake              69733\n",
            "animal_type                       4\n",
            "breed                          2130\n",
            "color                           524\n",
            "found_location                35637\n",
            "intake_condition                  8\n",
            "intake_type                       5\n",
            "sex_upon_intake                   5\n",
            "age_upon_intake_age_group         9\n",
            "intake_monthyear                 54\n",
            "intake_weekday                    7\n",
            "time_in_shelter               28105\n",
            "dtype: int64\n"
          ]
        }
      ]
    },
    {
      "cell_type": "code",
      "source": [
        "# Definir as colunas categóricas que serão codificadas\n",
        "columns_to_encode = [\n",
        "    'outcome_subtype',\n",
        "    'outcome_type',\n",
        "    'sex_upon_outcome',\n",
        "    'outcome_weekday',\n",
        "    'animal_type',\n",
        "    'intake_condition',\n",
        "    'intake_type',\n",
        "    'sex_upon_intake',\n",
        "    'intake_weekday'\n",
        "]\n",
        "\n",
        "# Aplicar One-Hot Encoding ao DataFrame padronizado\n",
        "data_standardized = pd.get_dummies(data_standardized, columns=columns_to_encode)\n",
        "\n",
        "# Aplicar One-Hot Encoding ao DataFrame normalizado\n",
        "data_normalized = pd.get_dummies(data_normalized, columns=columns_to_encode)\n",
        "\n",
        "# Exibir as primeiras linhas dos DataFrames para verificar o resultado\n",
        "print(\"Primeiras linhas dos dados padronizados com One-Hot Encoding:\")\n",
        "print(data_standardized.head())\n",
        "\n",
        "print(\"\\nPrimeiras linhas dos dados normalizados com One-Hot Encoding:\")\n",
        "print(data_normalized.head())"
      ],
      "metadata": {
        "colab": {
          "base_uri": "https://localhost:8080/"
        },
        "id": "nXh1SzwVHwhz",
        "outputId": "266307a4-9efd-4800-8965-cf9d912b5976"
      },
      "execution_count": null,
      "outputs": [
        {
          "output_type": "stream",
          "name": "stdout",
          "text": [
            "Primeiras linhas dos dados padronizados com One-Hot Encoding:\n",
            "  age_upon_outcome animal_id_outcome date_of_birth  age_upon_outcome_(days)  \\\n",
            "0          7 years           A006100           NaT                     2555   \n",
            "1          6 years           A006100           NaT                     2190   \n",
            "2         10 years           A047759           NaT                     3650   \n",
            "3         16 years           A134067           NaT                     5840   \n",
            "4         15 years           A141142           NaT                     5475   \n",
            "\n",
            "   age_upon_outcome_(years) age_upon_outcome_age_group outcome_datetime  \\\n",
            "0                       7.0                 (5.0, 7.5]              NaT   \n",
            "1                       6.0                 (5.0, 7.5]              NaT   \n",
            "2                      10.0                (7.5, 10.0]              NaT   \n",
            "3                      16.0               (15.0, 17.5]              NaT   \n",
            "4                      15.0               (12.5, 15.0]              NaT   \n",
            "\n",
            "   outcome_month  outcome_year outcome_monthyear  ...  \\\n",
            "0             12          2014           12/2014  ...   \n",
            "1              3          2014           03/2014  ...   \n",
            "2              4          2014           04/2014  ...   \n",
            "3             11          2013           11/2013  ...   \n",
            "4             11          2013           11/2013  ...   \n",
            "\n",
            "   sex_upon_intake_Neutered Male  sex_upon_intake_Spayed Female  \\\n",
            "0                           True                          False   \n",
            "1                           True                          False   \n",
            "2                           True                          False   \n",
            "3                           True                          False   \n",
            "4                          False                           True   \n",
            "\n",
            "   sex_upon_intake_Unknown  intake_weekday_Friday intake_weekday_Monday  \\\n",
            "0                    False                   True                 False   \n",
            "1                    False                   True                 False   \n",
            "2                    False                  False                 False   \n",
            "3                    False                  False                 False   \n",
            "4                    False                  False                 False   \n",
            "\n",
            "  intake_weekday_Saturday intake_weekday_Sunday intake_weekday_Thursday  \\\n",
            "0                   False                 False                   False   \n",
            "1                   False                 False                   False   \n",
            "2                   False                 False                   False   \n",
            "3                    True                 False                   False   \n",
            "4                    True                 False                   False   \n",
            "\n",
            "  intake_weekday_Tuesday intake_weekday_Wednesday  \n",
            "0                  False                    False  \n",
            "1                  False                    False  \n",
            "2                  False                     True  \n",
            "3                  False                    False  \n",
            "4                  False                    False  \n",
            "\n",
            "[5 rows x 113 columns]\n",
            "\n",
            "Primeiras linhas dos dados normalizados com One-Hot Encoding:\n",
            "  age_upon_outcome animal_id_outcome date_of_birth  age_upon_outcome_(days)  \\\n",
            "0          7 years           A006100           NaT                     2555   \n",
            "1          6 years           A006100           NaT                     2190   \n",
            "2         10 years           A047759           NaT                     3650   \n",
            "3         16 years           A134067           NaT                     5840   \n",
            "4         15 years           A141142           NaT                     5475   \n",
            "\n",
            "   age_upon_outcome_(years) age_upon_outcome_age_group outcome_datetime  \\\n",
            "0                       7.0                 (5.0, 7.5]              NaT   \n",
            "1                       6.0                 (5.0, 7.5]              NaT   \n",
            "2                      10.0                (7.5, 10.0]              NaT   \n",
            "3                      16.0               (15.0, 17.5]              NaT   \n",
            "4                      15.0               (12.5, 15.0]              NaT   \n",
            "\n",
            "   outcome_month  outcome_year outcome_monthyear  ...  \\\n",
            "0             12          2014           12/2014  ...   \n",
            "1              3          2014           03/2014  ...   \n",
            "2              4          2014           04/2014  ...   \n",
            "3             11          2013           11/2013  ...   \n",
            "4             11          2013           11/2013  ...   \n",
            "\n",
            "   sex_upon_intake_Neutered Male  sex_upon_intake_Spayed Female  \\\n",
            "0                           True                          False   \n",
            "1                           True                          False   \n",
            "2                           True                          False   \n",
            "3                           True                          False   \n",
            "4                          False                           True   \n",
            "\n",
            "   sex_upon_intake_Unknown  intake_weekday_Friday intake_weekday_Monday  \\\n",
            "0                    False                   True                 False   \n",
            "1                    False                   True                 False   \n",
            "2                    False                  False                 False   \n",
            "3                    False                  False                 False   \n",
            "4                    False                  False                 False   \n",
            "\n",
            "  intake_weekday_Saturday intake_weekday_Sunday intake_weekday_Thursday  \\\n",
            "0                   False                 False                   False   \n",
            "1                   False                 False                   False   \n",
            "2                   False                 False                   False   \n",
            "3                    True                 False                   False   \n",
            "4                    True                 False                   False   \n",
            "\n",
            "  intake_weekday_Tuesday intake_weekday_Wednesday  \n",
            "0                  False                    False  \n",
            "1                  False                    False  \n",
            "2                  False                     True  \n",
            "3                  False                    False  \n",
            "4                  False                    False  \n",
            "\n",
            "[5 rows x 113 columns]\n"
          ]
        }
      ]
    },
    {
      "cell_type": "markdown",
      "source": [
        "Label Enconding"
      ],
      "metadata": {
        "id": "hSKZ4SnUJucr"
      }
    },
    {
      "cell_type": "code",
      "source": [
        "from sklearn.preprocessing import LabelEncoder\n",
        "\n",
        "# Instanciar o LabelEncoder\n",
        "encoder = LabelEncoder()\n",
        "\n",
        "# Especificar as colunas que serão codificadas com Label Encoding\n",
        "label_encode_columns = [\n",
        "    'age_upon_outcome_age_group',\n",
        "    'age_upon_intake_age_group'\n",
        "]\n",
        "\n",
        "# Aplicar Label Encoding ao DataFrame padronizado\n",
        "data_standardized = data_standardized.copy()\n",
        "for column in label_encode_columns:\n",
        "    data_standardized[f'{column}_label'] = encoder.fit_transform(data_cleaned[column])\n",
        "\n",
        "# Aplicar Label Encoding ao DataFrame normalizado\n",
        "data_normalized = data_normalized.copy()\n",
        "for column in label_encode_columns:\n",
        "    data_normalized[f'{column}_label'] = encoder.fit_transform(data_cleaned[column])\n",
        "\n",
        "# Exibir as primeiras linhas dos DataFrames para verificar o resultado\n",
        "print(\"Primeiras linhas dos dados padronizados com Label Encoding:\")\n",
        "print(data_standardized.head())\n",
        "\n",
        "print(\"\\nPrimeiras linhas dos dados normalizados com Label Encoding:\")\n",
        "print(data_normalized.head())"
      ],
      "metadata": {
        "colab": {
          "base_uri": "https://localhost:8080/"
        },
        "id": "3bZNfq3ZJt4S",
        "outputId": "70e20f58-1f1a-410c-ca59-513e6c984209"
      },
      "execution_count": null,
      "outputs": [
        {
          "output_type": "stream",
          "name": "stdout",
          "text": [
            "Primeiras linhas dos dados padronizados com Label Encoding:\n",
            "  age_upon_outcome animal_id_outcome date_of_birth  age_upon_outcome_(days)  \\\n",
            "0          7 years           A006100           NaT                     2555   \n",
            "1          6 years           A006100           NaT                     2190   \n",
            "2         10 years           A047759           NaT                     3650   \n",
            "3         16 years           A134067           NaT                     5840   \n",
            "4         15 years           A141142           NaT                     5475   \n",
            "\n",
            "   age_upon_outcome_(years) age_upon_outcome_age_group outcome_datetime  \\\n",
            "0                       7.0                 (5.0, 7.5]              NaT   \n",
            "1                       6.0                 (5.0, 7.5]              NaT   \n",
            "2                      10.0                (7.5, 10.0]              NaT   \n",
            "3                      16.0               (15.0, 17.5]              NaT   \n",
            "4                      15.0               (12.5, 15.0]              NaT   \n",
            "\n",
            "   outcome_month  outcome_year outcome_monthyear  ...  \\\n",
            "0             12          2014           12/2014  ...   \n",
            "1              3          2014           03/2014  ...   \n",
            "2              4          2014           04/2014  ...   \n",
            "3             11          2013           11/2013  ...   \n",
            "4             11          2013           11/2013  ...   \n",
            "\n",
            "   sex_upon_intake_Unknown  intake_weekday_Friday  intake_weekday_Monday  \\\n",
            "0                    False                   True                  False   \n",
            "1                    False                   True                  False   \n",
            "2                    False                  False                  False   \n",
            "3                    False                  False                  False   \n",
            "4                    False                  False                  False   \n",
            "\n",
            "   intake_weekday_Saturday intake_weekday_Sunday intake_weekday_Thursday  \\\n",
            "0                    False                 False                   False   \n",
            "1                    False                 False                   False   \n",
            "2                    False                 False                   False   \n",
            "3                     True                 False                   False   \n",
            "4                     True                 False                   False   \n",
            "\n",
            "  intake_weekday_Tuesday intake_weekday_Wednesday  \\\n",
            "0                  False                    False   \n",
            "1                  False                    False   \n",
            "2                  False                     True   \n",
            "3                  False                    False   \n",
            "4                  False                    False   \n",
            "\n",
            "  age_upon_outcome_age_group_label age_upon_intake_age_group_label  \n",
            "0                                7                               7  \n",
            "1                                7                               7  \n",
            "2                                8                               8  \n",
            "3                                3                               3  \n",
            "4                                2                               2  \n",
            "\n",
            "[5 rows x 115 columns]\n",
            "\n",
            "Primeiras linhas dos dados normalizados com Label Encoding:\n",
            "  age_upon_outcome animal_id_outcome date_of_birth  age_upon_outcome_(days)  \\\n",
            "0          7 years           A006100           NaT                     2555   \n",
            "1          6 years           A006100           NaT                     2190   \n",
            "2         10 years           A047759           NaT                     3650   \n",
            "3         16 years           A134067           NaT                     5840   \n",
            "4         15 years           A141142           NaT                     5475   \n",
            "\n",
            "   age_upon_outcome_(years) age_upon_outcome_age_group outcome_datetime  \\\n",
            "0                       7.0                 (5.0, 7.5]              NaT   \n",
            "1                       6.0                 (5.0, 7.5]              NaT   \n",
            "2                      10.0                (7.5, 10.0]              NaT   \n",
            "3                      16.0               (15.0, 17.5]              NaT   \n",
            "4                      15.0               (12.5, 15.0]              NaT   \n",
            "\n",
            "   outcome_month  outcome_year outcome_monthyear  ...  \\\n",
            "0             12          2014           12/2014  ...   \n",
            "1              3          2014           03/2014  ...   \n",
            "2              4          2014           04/2014  ...   \n",
            "3             11          2013           11/2013  ...   \n",
            "4             11          2013           11/2013  ...   \n",
            "\n",
            "   sex_upon_intake_Unknown  intake_weekday_Friday  intake_weekday_Monday  \\\n",
            "0                    False                   True                  False   \n",
            "1                    False                   True                  False   \n",
            "2                    False                  False                  False   \n",
            "3                    False                  False                  False   \n",
            "4                    False                  False                  False   \n",
            "\n",
            "   intake_weekday_Saturday intake_weekday_Sunday intake_weekday_Thursday  \\\n",
            "0                    False                 False                   False   \n",
            "1                    False                 False                   False   \n",
            "2                    False                 False                   False   \n",
            "3                     True                 False                   False   \n",
            "4                     True                 False                   False   \n",
            "\n",
            "  intake_weekday_Tuesday intake_weekday_Wednesday  \\\n",
            "0                  False                    False   \n",
            "1                  False                    False   \n",
            "2                  False                     True   \n",
            "3                  False                    False   \n",
            "4                  False                    False   \n",
            "\n",
            "  age_upon_outcome_age_group_label age_upon_intake_age_group_label  \n",
            "0                                7                               7  \n",
            "1                                7                               7  \n",
            "2                                8                               8  \n",
            "3                                3                               3  \n",
            "4                                2                               2  \n",
            "\n",
            "[5 rows x 115 columns]\n"
          ]
        }
      ]
    },
    {
      "cell_type": "markdown",
      "source": [
        "Feature Engineering para as raças"
      ],
      "metadata": {
        "id": "VkfEug5hKPWm"
      }
    },
    {
      "cell_type": "code",
      "source": [
        "# Função para criar a coluna 'breed_mixed' com base na coluna 'breed'\n",
        "def identify_mixed_breed(df):\n",
        "    df['breed_mixed'] = df['breed'].apply(lambda x: 1 if 'Mix' in x or '/' in x else 0)\n",
        "    return df\n",
        "\n",
        "# Aplicar a função para adicionar a coluna 'breed_mixed' aos DataFrames padronizados e normalizados\n",
        "data_standardized['breed_mixed'] = identify_mixed_breed(data_standardized)['breed_mixed']\n",
        "data_normalized['breed_mixed'] = identify_mixed_breed(data_normalized)['breed_mixed']\n",
        "\n",
        "# Exibir as primeiras linhas dos DataFrames para verificar o resultado\n",
        "print(\"Primeiras linhas dos dados padronizados com Feature Engineering (breed):\")\n",
        "print(data_standardized[['breed', 'breed_mixed']].head())\n",
        "\n",
        "print(\"\\nPrimeiras linhas dos dados normalizados com Feature Engineering (breed):\")\n",
        "print(data_normalized[['breed', 'breed_mixed']].head())"
      ],
      "metadata": {
        "colab": {
          "base_uri": "https://localhost:8080/"
        },
        "id": "1n8qc9D6KRaZ",
        "outputId": "400df8c2-7560-4dc4-8550-72f7ff637d23"
      },
      "execution_count": null,
      "outputs": [
        {
          "output_type": "stream",
          "name": "stdout",
          "text": [
            "Primeiras linhas dos dados padronizados com Feature Engineering (breed):\n",
            "                         breed  breed_mixed\n",
            "0         Spinone Italiano Mix            1\n",
            "1         Spinone Italiano Mix            1\n",
            "2                    Dachshund            0\n",
            "3            Shetland Sheepdog            0\n",
            "4  Labrador Retriever/Pit Bull            1\n",
            "\n",
            "Primeiras linhas dos dados normalizados com Feature Engineering (breed):\n",
            "                         breed  breed_mixed\n",
            "0         Spinone Italiano Mix            1\n",
            "1         Spinone Italiano Mix            1\n",
            "2                    Dachshund            0\n",
            "3            Shetland Sheepdog            0\n",
            "4  Labrador Retriever/Pit Bull            1\n"
          ]
        }
      ]
    },
    {
      "cell_type": "markdown",
      "source": [
        "Iniciando Clusterização - Método Cotovelo"
      ],
      "metadata": {
        "id": "eDF9e6Wg6S-I"
      }
    },
    {
      "cell_type": "code",
      "source": [
        "# Remover colunas de data/hora antes de aplicar o KMeans\n",
        "data_standardized = data_standardized.select_dtypes(include=['float64', 'int64'])\n",
        "\n",
        "from sklearn.cluster import KMeans\n",
        "import matplotlib.pyplot as plt\n",
        "\n",
        "# Supondo que você já tenha os dados padronizados no DataFrame `data_standardized`\n",
        "\n",
        "# Lista para armazenar a soma dos quadrados dentro dos clusters (WCSS)\n",
        "wcss = []\n",
        "\n",
        "# Testar diferentes números de clusters, por exemplo, de 1 a 30 clusters\n",
        "for i in range(1, 30):\n",
        "    kmeans = KMeans(n_clusters=i, init='k-means++', max_iter=300, n_init=10, random_state=42)\n",
        "    kmeans.fit(data_standardized)\n",
        "    wcss.append(kmeans.inertia_)\n",
        "\n",
        "# Plotar o gráfico do cotovelo\n",
        "plt.plot(range(1, 30), wcss, marker='o')\n",
        "plt.title('Método do Cotovelo')\n",
        "plt.xlabel('Número de Clusters')\n",
        "plt.ylabel('WCSS')\n",
        "plt.show()"
      ],
      "metadata": {
        "colab": {
          "base_uri": "https://localhost:8080/",
          "height": 524
        },
        "id": "Ol_qunJw7B9G",
        "outputId": "1f83f56a-c1d6-47b7-bcb9-b8356d6a6e19"
      },
      "execution_count": null,
      "outputs": [
        {
          "output_type": "display_data",
          "data": {
            "text/plain": [
              "<Figure size 800x550 with 1 Axes>"
            ],
            "image/png": "[encoded data removed]"
          },
          "metadata": {}
        }
      ]
    },
    {
      "cell_type": "markdown",
      "source": [
        "Método Silhueta"
      ],
      "metadata": {
        "id": "2w2Ajr3h_af1"
      }
    },
    {
      "cell_type": "code",
      "source": [
        "from yellowbrick.cluster import SilhouetteVisualizer\n",
        "from sklearn.cluster import KMeans\n",
        "\n",
        "# Defina o número de clusters com base no método do cotovelo, por exemplo, 3 clusters\n",
        "n_clusters = 3\n",
        "\n",
        "# Crie e configure o modelo KMeans\n",
        "kmeans_model = KMeans(n_clusters=n_clusters, init='k-means++', n_init=10, max_iter=300, random_state=42)\n",
        "\n",
        "# Visualizador de silhueta usando o modelo KMeans\n",
        "visualizer = SilhouetteVisualizer(kmeans_model, colors='yellowbrick')\n",
        "\n",
        "# Ajuste o visualizador ao data_standardized\n",
        "visualizer.fit(data_standardized)\n",
        "\n",
        "# Exiba o gráfico da silhueta\n",
        "visualizer.show()"
      ],
      "metadata": {
        "colab": {
          "base_uri": "https://localhost:8080/",
          "height": 541
        },
        "id": "nMNQFohaAHHB",
        "outputId": "df8b5b03-1e96-4f46-fae0-5e8ec264a6f9"
      },
      "execution_count": null,
      "outputs": [
        {
          "output_type": "display_data",
          "data": {
            "text/plain": [
              "<Figure size 800x550 with 1 Axes>"
            ],
            "image/png": "[encoded data removed]"
          },
          "metadata": {}
        },
        {
          "output_type": "execute_result",
          "data": {
            "text/plain": [
              "<Axes: title={'center': 'Silhouette Plot of KMeans Clustering for 76993 Samples in 3 Centers'}, xlabel='silhouette coefficient values', ylabel='cluster label'>"
            ]
          },
          "metadata": {},
          "execution_count": 25
        }
      ]
    },
    {
      "cell_type": "markdown",
      "source": [
        "Método Silhueta com 5 clusters"
      ],
      "metadata": {
        "id": "vCnHQkmwO7c9"
      }
    },
    {
      "cell_type": "code",
      "source": [
        "from yellowbrick.cluster import SilhouetteVisualizer\n",
        "from sklearn.cluster import KMeans\n",
        "\n",
        "# Defina o número de clusters com base no método do cotovelo, por exemplo, 3 clusters\n",
        "n_clusters = 5\n",
        "\n",
        "# Crie e configure o modelo KMeans\n",
        "kmeans_model = KMeans(n_clusters=n_clusters, init='k-means++', n_init=10, max_iter=300, random_state=42)\n",
        "\n",
        "# Visualizador de silhueta usando o modelo KMeans\n",
        "visualizer = SilhouetteVisualizer(kmeans_model, colors='yellowbrick')\n",
        "\n",
        "# Ajuste o visualizador ao data_standardized\n",
        "visualizer.fit(data_standardized)\n",
        "\n",
        "# Exiba o gráfico da silhueta\n",
        "visualizer.show()"
      ],
      "metadata": {
        "colab": {
          "base_uri": "https://localhost:8080/",
          "height": 541
        },
        "id": "YIOi1Tb3O_AM",
        "outputId": "cdac9e49-cec8-49ba-f33a-ef0b26a246ca"
      },
      "execution_count": null,
      "outputs": [
        {
          "output_type": "display_data",
          "data": {
            "text/plain": [
              "<Figure size 800x550 with 1 Axes>"
            ],
            "image/png": "[encoded data removed]"
          },
          "metadata": {}
        },
        {
          "output_type": "execute_result",
          "data": {
            "text/plain": [
              "<Axes: title={'center': 'Silhouette Plot of KMeans Clustering for 76993 Samples in 5 Centers'}, xlabel='silhouette coefficient values', ylabel='cluster label'>"
            ]
          },
          "metadata": {},
          "execution_count": 26
        }
      ]
    }
  ]
}